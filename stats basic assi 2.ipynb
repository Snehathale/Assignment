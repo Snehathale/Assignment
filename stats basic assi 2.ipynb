{
 "cells": [
  {
   "cell_type": "markdown",
   "id": "234d62ad-9d9c-4d14-a585-f6778f2af3c9",
   "metadata": {},
   "source": [
    "Q1. What are the three measures of central tendency?"
   ]
  },
  {
   "cell_type": "markdown",
   "id": "91047696-e188-4c3a-9865-18955d893a33",
   "metadata": {},
   "source": [
    "Mean\n",
    "\n",
    "The mean represents the average value of the dataset. It can be calculated as the sum of all the values in the dataset divided by the number of values. In general, it is considered as the arithmetic mean. Some other measures of mean used to find the central tendency are as follows:\n",
    "Geometric Mean\n",
    "Harmonic Mean\n",
    "Weighted Mean"
   ]
  },
  {
   "cell_type": "markdown",
   "id": "0ee80589-4d33-4951-b52f-43fc96286e9b",
   "metadata": {},
   "source": [
    "Median\n",
    "\n",
    "Median is the middle value of the dataset in which the dataset is arranged in the ascending order or in descending order. When the dataset contains an even number of values, then the median value of the dataset can be found by taking the mean of the middle two values."
   ]
  },
  {
   "cell_type": "markdown",
   "id": "b0102242-6645-4e0f-aacf-c729307f102b",
   "metadata": {},
   "source": [
    "Consider the given dataset with the odd number of observations arranged in descending order – 23, 21, 18, 16, 15, 13, 12, 10, 9, 7, 6, 5, and 2 Here 12 is the middle or median number that has 6 values above it and 6 values below it.\n",
    "\n",
    "Now, consider another example with an even number of observations that are arranged in descending order – 40, 38, 35, 33, 32, 30, 29, 27, 26, 24, 23, 22, 19, and 17 When you look at the given dataset, the two middle values obtained are 27 and 29.\n",
    "\n",
    "Now, find out the mean value for these two numbers.\n",
    "\n",
    "i.e.,(27+29)/2 =28\n",
    "\n",
    "Therefore, the median for the given data distribution is 28.\n",
    "\n",
    "\n",
    "\n",
    "\n"
   ]
  },
  {
   "cell_type": "markdown",
   "id": "328fcf7b-57f4-4c4f-a2e0-f76506daf702",
   "metadata": {},
   "source": [
    "Mode\n",
    "\n",
    "The mode represents the frequently occurring value in the dataset. Sometimes the dataset may contain multiple modes and in some cases, it does not contain any mode at all.\n",
    "\n",
    "Consider the given dataset 5, 4, 2, 3, 2, 1, 5, 4, 5\n",
    "Since the mode represents the most common value. Hence, the most frequently repeated value in the given dataset is 5."
   ]
  },
  {
   "cell_type": "raw",
   "id": "481b026a-2e56-4b44-9933-fff7999d052f",
   "metadata": {},
   "source": []
  },
  {
   "cell_type": "markdown",
   "id": "1086a1a9-6bb6-48d2-ba86-7e44bd1087fe",
   "metadata": {},
   "source": [
    "Q2. What is the difference between the mean, median, and mode? How are they used to measure the\n",
    "central tendency of a dataset?"
   ]
  },
  {
   "cell_type": "markdown",
   "id": "f36ab0b6-4b2d-4939-a253-7043a886811f",
   "metadata": {},
   "source": [
    "All right, let's break down the difference between mean, median, and mode:\n",
    "\n",
    "Mean: This is the most familiar one - it's simply the average of all the numbers in a dataset. You calculate it by adding up all the values and dividing by the total number of values.\n",
    "\n",
    "Median: The median is the middle number when the data is arranged in order from least to greatest. If you have an even number of values, the median is the average of the two middle numbers.\n",
    "\n",
    "Mode: The mode is the most frequent number in the dataset. There can be one mode, multiple modes (bimodal, multimodal), or even no mode at all if all the numbers appear the same number of times.\n",
    "\n",
    "Now, how do they represent central tendency? All three measures aim to give you an idea of the \"typical\" value in a dataset.\n",
    "\n",
    "Mean: Works well for symmetrical data (bell-shaped curve). If there are extreme values (outliers), the mean can be skewed towards those outliers.\n",
    "\n",
    "Median: Not affected by outliers as much as the mean. Great for skewed data where the center is not well-represented by the average.\n",
    "\n",
    "Mode: Useful for categorical data (e.g., shoe sizes, favorite colors) where you want to know the most common value.\n",
    "\n",
    "In conclusion, choosing the best measure of central tendency depends on the nature of your data. If you have normally distributed data, the mean is a good choice. If you have skewed data or outliers, the median might be a better representation. And for categorical data, the mode is often the most informative."
   ]
  },
  {
   "cell_type": "raw",
   "id": "52b04cd9-f0d0-4073-9eee-99e9c6f68fba",
   "metadata": {},
   "source": []
  },
  {
   "cell_type": "markdown",
   "id": "4a0eac3b-fc43-48a3-a1ba-852b83748164",
   "metadata": {},
   "source": [
    "Q3. Measure the three measures of central tendency for the given height data:\n",
    "[178,177,176,177,178.2,178,175,179,180,175,178.9,176.2,177,172.5,178,176.5]"
   ]
  },
  {
   "cell_type": "code",
   "execution_count": 1,
   "id": "2d9da1c3-3c89-48ba-842e-bf7203283d4c",
   "metadata": {},
   "outputs": [
    {
     "data": {
      "text/plain": [
       "177.01875"
      ]
     },
     "execution_count": 1,
     "metadata": {},
     "output_type": "execute_result"
    }
   ],
   "source": [
    "#mean \n",
    "\n",
    "dataset=[178,177,176,177,178.2,178,175,179,180,175,178.9,176.2,177,172.5,178,176.5]\n",
    "import numpy as np\n",
    "np.mean(dataset)"
   ]
  },
  {
   "cell_type": "code",
   "execution_count": 2,
   "id": "f3f47eb8-54d3-43c0-92ea-ec2fbd48f8a3",
   "metadata": {},
   "outputs": [
    {
     "data": {
      "text/plain": [
       "177.0"
      ]
     },
     "execution_count": 2,
     "metadata": {},
     "output_type": "execute_result"
    }
   ],
   "source": [
    "#median\n",
    "\n",
    "np.median(dataset)"
   ]
  },
  {
   "cell_type": "code",
   "execution_count": 4,
   "id": "b4d454aa-fda7-48e0-bd77-94a9ff32e77b",
   "metadata": {},
   "outputs": [],
   "source": [
    "#mode\n",
    "\n",
    "from scipy import stats"
   ]
  },
  {
   "cell_type": "code",
   "execution_count": 5,
   "id": "b91014ef-c165-4cf8-892d-bcb8443d6dfd",
   "metadata": {},
   "outputs": [
    {
     "name": "stderr",
     "output_type": "stream",
     "text": [
      "/tmp/ipykernel_70/3885314588.py:1: FutureWarning: Unlike other reduction functions (e.g. `skew`, `kurtosis`), the default behavior of `mode` typically preserves the axis it acts along. In SciPy 1.11.0, this behavior will change: the default value of `keepdims` will become False, the `axis` over which the statistic is taken will be eliminated, and the value None will no longer be accepted. Set `keepdims` to True or False to avoid this warning.\n",
      "  stats.mode(dataset)\n"
     ]
    },
    {
     "data": {
      "text/plain": [
       "ModeResult(mode=array([177.]), count=array([3]))"
      ]
     },
     "execution_count": 5,
     "metadata": {},
     "output_type": "execute_result"
    }
   ],
   "source": [
    "stats.mode(dataset)"
   ]
  },
  {
   "cell_type": "raw",
   "id": "1d647b45-dc8e-4ab2-a16a-ee94aa81fd95",
   "metadata": {},
   "source": []
  },
  {
   "cell_type": "markdown",
   "id": "e25b6edf-a1b1-4ad3-916f-0db73c5a7a06",
   "metadata": {},
   "source": [
    "Q4. Find the standard deviation for the given data:\n",
    "[178,177,176,177,178.2,178,175,179,180,175,178.9,176.2,177,172.5,178,176.5]"
   ]
  },
  {
   "cell_type": "code",
   "execution_count": 6,
   "id": "9a58a335-c29f-4d45-ae40-8b9876b8e513",
   "metadata": {},
   "outputs": [],
   "source": [
    "data=[178,177,176,177,178.2,178,175,179,180,175,178.9,176.2,177,172.5,178,176.5]"
   ]
  },
  {
   "cell_type": "code",
   "execution_count": 7,
   "id": "21b518e2-424a-44ba-bd3f-2a5ffb5638ac",
   "metadata": {},
   "outputs": [
    {
     "data": {
      "text/plain": [
       "1.7885814036548633"
      ]
     },
     "execution_count": 7,
     "metadata": {},
     "output_type": "execute_result"
    }
   ],
   "source": [
    "#std\n",
    "np.std(data)"
   ]
  },
  {
   "cell_type": "raw",
   "id": "4c25ea93-454b-4454-a131-b149fefb0474",
   "metadata": {},
   "source": []
  },
  {
   "cell_type": "markdown",
   "id": "588a19c1-e059-4baa-9665-353315eb6bc4",
   "metadata": {},
   "source": [
    "Q5. How are measures of dispersion such as range, variance, and standard deviation used to describe\n",
    "the spread of a dataset? Provide an example."
   ]
  },
  {
   "cell_type": "markdown",
   "id": "8959837f-3395-41ed-a55f-346349ffb3a7",
   "metadata": {},
   "source": [
    "Measures of dispersion, like range, variance, and standard deviation, quantify how spread out the data points are in a dataset. They complement the measures of central tendency (mean, median, mode) by giving us a sense of how tightly or loosely the data clusters around the \"center.\"\n",
    "\n",
    "Here's how each measure describes spread:\n",
    "\n",
    "Range: It's the simplest - the difference between the highest and lowest values. A large range indicates a wider spread of data.\n",
    "\n",
    "Variance: It captures the average squared deviation from the mean.  Imagine how far each data point is from the mean, square those distances, and take the average. A higher variance signifies a larger spread.\n",
    "\n",
    "Standard Deviation:  This is the square root of the variance. It's in the same units as the original data, making it easier to interpret the spread compared to variance.\n",
    "\n",
    "Example:\n",
    "\n",
    "Imagine two datasets: dataset A with exam scores (80, 85, 90, 95, 100) and dataset B with scores (60, 70, 80, 90, 100). Both datasets have the same mean (85) and median (85).\n",
    "\n",
    "Range: Dataset A has a range of 20 (100 - 80) while dataset B has a range of 40 (100 - 60). This shows dataset B is more spread out.\n",
    "\n",
    "Variance/Standard Deviation:  Let's calculate them (assuming we don't know the mean yet). You'll find that dataset B has a higher variance and standard deviation compared to dataset A. This confirms the wider spread in dataset B.\n",
    "\n",
    "Even though both datasets have the same central tendency, the measures of dispersion reveal dataset B has more variation in its scores."
   ]
  },
  {
   "cell_type": "raw",
   "id": "a08cba0b-22d4-4698-9130-de8cb7961194",
   "metadata": {},
   "source": []
  },
  {
   "cell_type": "markdown",
   "id": "1524754a-5619-448e-9172-cc0ed37f2515",
   "metadata": {},
   "source": [
    "Q6. What is a Venn diagram?"
   ]
  },
  {
   "cell_type": "markdown",
   "id": "9c745529-414a-47bf-9d2e-f14017e07211",
   "metadata": {},
   "source": [
    "A Venn diagram is a visualization tool that uses overlapping circles to represent relationships between sets. It's particularly helpful for understanding the similarities and differences between two or more groups of items.\n",
    "\n",
    "Here's a breakdown of key concepts:\n",
    "\n",
    "Circles: Each circle represents a set of items that share a specific characteristic.\n",
    "\n",
    "Overlap: The area where circles overlap signifies items that belong to both sets (intersection).\n",
    "\n",
    "Separate Areas: Areas within a circle but not overlapping with others represent items unique to that set.\n",
    "\n",
    "Universal Set (Optional): Sometimes, a rectangle around the circles depicts all possible elements under consideration.\n",
    "\n",
    "Venn diagrams are commonly used in various fields like:\n",
    "\n",
    "Mathematics: They visually represent set theory concepts like union, intersection, and complement.\n",
    "\n",
    "Statistics: Venn diagrams can depict relationships between categorical variables.\n",
    "\n",
    "Logic: They can be used to illustrate logical propositions.\n",
    "\n",
    "Computer Science: Venn diagrams help visualize relationships between sets in data structures.\n",
    "\n",
    "Education: Often used to teach young students about comparisons and classifications.\n",
    "\n",
    "Imagine comparing fruits that are sweet (circle A) and juicy (circle B). A strawberry would be in the overlap area (both sweet and juicy), while a watermelon might be only in the juicy circle (not necessarily sweet)."
   ]
  },
  {
   "cell_type": "raw",
   "id": "2a80f040-bb5b-47b8-918c-b27e7014fdc6",
   "metadata": {},
   "source": []
  },
  {
   "cell_type": "markdown",
   "id": "c847f86c-df3a-4152-b93a-752482fff5b5",
   "metadata": {},
   "source": [
    "Q7. For the two given sets A = (2,3,4,5,6,7) & B = (0,2,6,8,10). Find:\n",
    "\n",
    "(i) A B\n",
    "\n",
    "(ii) A ⋃ B"
   ]
  },
  {
   "cell_type": "markdown",
   "id": "affb9dc9-482f-4d89-addb-6dc3eb6af1cb",
   "metadata": {},
   "source": [
    "i) (A intersection B) = (2,6)\n",
    "\n",
    "(ii) (A ⋃ B) = (0,2,3,4,5,6,7,8,10)\n"
   ]
  },
  {
   "cell_type": "raw",
   "id": "e74cb089-756a-4859-9000-386710e448cc",
   "metadata": {},
   "source": []
  },
  {
   "cell_type": "markdown",
   "id": "9bf92389-bce2-4e2b-b44b-bbe99c01bdd9",
   "metadata": {},
   "source": [
    "Q8. What do you understand about skewness in data?"
   ]
  },
  {
   "cell_type": "markdown",
   "id": "09a41d6e-2d98-4a9b-a221-04c7d38bf463",
   "metadata": {},
   "source": [
    "Skewness refers to the asymmetry in a distribution of data.  Imagine a symmetrical bell curve representing a normal distribution. Skewness tells you how much that curve is lopsided to one side.\n",
    "\n",
    "There are three main types of skewness:\n",
    "\n",
    "Positive Skew: The tail of the distribution stretches out to the right. This means there are more data points clustered on the left side of the distribution, with a longer \"tail\" of data points towards higher values.\n",
    "\n",
    "Negative Skew: The tail extends to the left. Here, there are more data points on the right side, with a longer tail towards lower values.\n",
    "\n",
    "Zero Skew: The data is perfectly symmetrical, forming a normal distribution like a bell curve.\n",
    "\n",
    "Here are some key points about skewness:\n",
    "\n",
    "Impact on Central Tendency:The mean can be sensitive to skewness. In a positively skewed distribution, the mean might be pulled towards the tail (higher values) compared to the median, which is less affected by outliers.\n",
    "\n",
    "Understanding Spread: Measures of dispersion like standard deviation can be used with caution for skewed data. They might not accurately reflect how spread out the data is relative to the center.\n",
    "\n",
    "Data Analysis: It's important to consider skewness when analyzing data. If your data is skewed, you might need to choose appropriate statistical methods that are more robust to asymmetry. Transformations or non-parametric tests might be suitable options.\n",
    "By understanding skewness, you gain valuable insights into the shape of your data and potential implications for your analysis."
   ]
  },
  {
   "cell_type": "raw",
   "id": "54b1aa90-da18-40b6-9a1b-5d858582ed83",
   "metadata": {},
   "source": []
  },
  {
   "cell_type": "markdown",
   "id": "bd1a868a-97d8-456c-b7d3-2515f5f833ae",
   "metadata": {},
   "source": [
    "Q9. If a data is right skewed then what will be the position of median with respect to mean?"
   ]
  },
  {
   "cell_type": "markdown",
   "id": "fa7f896e-23a1-4bb1-a45b-48875eb682dd",
   "metadata": {},
   "source": [
    "In a right-skewed data distribution, the median will be less than the mean.\n",
    "\n",
    "Here's why:\n",
    "\n",
    "Right-skewed data has a tail that extends towards higher values.\n",
    "\n",
    "The median represents the \"middle\" value when the data is ordered, unaffected by extreme values on either side.\n",
    "\n",
    "The mean is the average of all values, and can be pulled towards the tail (higher values) in a right-skewed distribution due to the influence of those larger data points."
   ]
  },
  {
   "cell_type": "raw",
   "id": "07118c18-143c-4f21-b666-b475ee9929e1",
   "metadata": {},
   "source": []
  },
  {
   "cell_type": "markdown",
   "id": "7995152f-b261-4ec3-b779-4c9ef04dfc92",
   "metadata": {},
   "source": [
    "Q10. Explain the difference between covariance and correlation. How are these measures used in\n",
    "statistical analysis?"
   ]
  },
  {
   "cell_type": "markdown",
   "id": "89eef0f2-d9ae-4d1b-a367-f0b5140e8a7b",
   "metadata": {},
   "source": [
    "Covariance and correlation are both used to measure the relationship between two variables, but they capture different aspects of that relationship. Here's a breakdown of their key differences:\n",
    "\n",
    "Covariance:\n",
    "\n",
    "Measures: The direction and strength of the linear relationship between two variables.\n",
    "\n",
    "Units: Same units as the product of the original variables. Difficult to interpret directly due to the units.\n",
    "\n",
    "Range: Can be positive (variables move together), negative (variables move in opposite directions), or zero (no linear relationship).\n",
    "\n",
    "Sensitivity: Affected by the scale of the data. Multiplying one variable by a constant will multiply the covariance by the same constant.\n",
    "\n",
    "Correlation:\n",
    "\n",
    "Measures: The strength and direction of the linear relationship between two variables, scaled between -1 and +1.\n",
    "\n",
    "Units: No units (correlation coefficient). Easier to interpret as a value between -1 and 1.\n",
    "\n",
    "Range: -1 (perfect negative linear relationship), 0 (no linear relationship), +1 (perfect positive linear relationship).\n",
    "\n",
    "Not Sensitive: Not affected by the scale of the data.\n",
    "\n",
    "How are they used?\n",
    "\n",
    "Covariance: Used as a preliminary step to identify potential relationships. A non-zero covariance suggests a possible linear relationship, but the value itself is difficult to interpret directly.\n",
    "\n",
    "Correlation: More commonly used to assess the strength and direction of the linear relationship. A correlation coefficient closer to -1 or +1 indicates a stronger linear relationship, while a value closer to 0 suggests a weaker or no linear relationship."
   ]
  },
  {
   "cell_type": "raw",
   "id": "239647ab-d93a-4a61-95f7-c5fcfb1ff184",
   "metadata": {},
   "source": []
  },
  {
   "cell_type": "markdown",
   "id": "16fc0963-93c9-4306-9f8d-08a5f22fbb68",
   "metadata": {},
   "source": [
    "Q11. What is the formula for calculating the sample mean? Provide an example calculation for a\n",
    "dataset."
   ]
  },
  {
   "cell_type": "markdown",
   "id": "0c83810a-c3c8-42b9-a69f-9d3d0548a700",
   "metadata": {},
   "source": [
    "The formula for calculating the sample mean (average) is:\n",
    "\n",
    "Σ (xi) / n\n",
    "\n",
    "where:\n",
    "\n",
    "Σ (sigma) represents the sum of all the values in the data set (xi).\n",
    "\n",
    "xi represents each individual value in the data set.\n",
    "\n",
    "n represents the total number of values in the data set.\n",
    "\n",
    "Here's an example calculation:\n",
    "\n",
    "Data set: {2, 5, 1, 7, 4}\n",
    "\n",
    "Σ (xi): Add all the values in the data set.\n",
    "Σ (xi) = 2 + 5 + 1 + 7 + 4 = 19\n",
    "\n",
    "n: Count the total number of values.\n",
    "n = 5 (there are five numbers in the data set).\n",
    "\n",
    "Sample Mean: Average the sum by dividing by n. \n",
    "Sample Mean = Σ (xi) / n = 19 / 5 = 3.8\n",
    "\n",
    "Therefore, the sample mean for this data set is 3.8."
   ]
  },
  {
   "cell_type": "raw",
   "id": "84bf562c-3c99-4a3c-a0e7-56f8f603996c",
   "metadata": {},
   "source": []
  },
  {
   "cell_type": "markdown",
   "id": "3984c042-dc82-4270-800f-32b00713d0b9",
   "metadata": {},
   "source": [
    "Q12. For a normal distribution data what is the relationship between its measure of central tendency?"
   ]
  },
  {
   "cell_type": "markdown",
   "id": "4acd00fe-4f7e-4171-a874-15cfa771e56f",
   "metadata": {},
   "source": [
    "In a normal distribution, all three measures of central tendency – mean, median, and mode – have a special relationship: they are all exactly equal.\n",
    "\n",
    "Here's why:\n",
    "\n",
    "A normal distribution is symmetrical. The data points are distributed evenly on either side of the center, forming a bell-shaped curve.\n",
    "\n",
    "The mean represents the average of all values, and in a symmetrical distribution, it will fall right in the center where the data is most concentrated.\n",
    "\n",
    "The median is the middle value when the data is ordered. In a symmetrical distribution, the middle value will also coincide with the center where most of the data accumulates.\n",
    "\n",
    "The mode is the most frequent value. Because the data is symmetrical, there will be a single peak in the center, making the most frequent value the one that falls right in the middle again.\n",
    "\n",
    "Therefore, in a normal distribution,  mean = median = mode. This unique characteristic helps us identify if a distribution is likely normal by comparing these measures of central tendency. If they are close or exactly the same, it suggests normality."
   ]
  },
  {
   "cell_type": "raw",
   "id": "86928b68-665d-4371-acd1-b95411092cc7",
   "metadata": {},
   "source": []
  },
  {
   "cell_type": "markdown",
   "id": "81e99d0d-aec7-480d-b1b2-fb5ccbf7e78c",
   "metadata": {},
   "source": [
    "Q13. How is covariance different from correlation?"
   ]
  },
  {
   "cell_type": "markdown",
   "id": "cc4c42a7-75df-4402-ad65-83d7cb35d3f9",
   "metadata": {},
   "source": [
    "Covariance:\n",
    "\n",
    "Measures the direction and strength of the linear relationship between two variables.\n",
    "\n",
    "Units are the product of the original variables' units. Not directly interpretable due to units.\n",
    "\n",
    "Ranges from positive (variables move together) to negative (opposite directions) to zero (no linear relationship).\n",
    "\n",
    "Sensitive to the scale of the data (multiplying a variable by a constant multiplies covariance by the same constant).\n",
    "\n",
    "Correlation:\n",
    "\n",
    "Measures the strength and direction of the linear relationship between two variables.\n",
    "\n",
    "Unitless (correlation coefficient). Easier to interpret with values between -1 and +1.\n",
    "\n",
    "Ranges from -1 (perfect negative linear relationship) to 0 (no linear relationship) to +1 (perfect positive linear relationship).\n",
    "\n",
    "Not sensitive to the scale of the data.\n",
    "\n",
    "Key Difference:\n",
    "\n",
    "Covariance gives you raw information about the direction and influence between variables, considering the scale of the data. Correlation provides a standardized value (-1 to +1) that's easier to interpret for the strength of the linear relationship, independent of the data scale."
   ]
  },
  {
   "cell_type": "raw",
   "id": "94c9f8f1-b9a7-4b37-932f-0a22b8d29c43",
   "metadata": {},
   "source": []
  },
  {
   "cell_type": "markdown",
   "id": "6faa1915-4ca9-42c7-8c51-79d8a5ba87b6",
   "metadata": {},
   "source": [
    "Q14. How do outliers affect measures of central tendency and dispersion? Provide an example."
   ]
  },
  {
   "cell_type": "markdown",
   "id": "0d6738cd-c782-4140-ac60-3bc5f8e87e58",
   "metadata": {},
   "source": [
    "Outliers and Statistical Measures\n",
    "\n",
    "Outliers, data points significantly different from the rest, can significantly impact how we interpret central tendency and dispersion. Here's a breakdown:\n",
    "\n",
    "Central Tendency:\n",
    "\n",
    "Mean (average): Outliers heavily influence the mean. A single very high or low value can pull the mean in its direction, misrepresenting the \"typical\" data point.\n",
    "\n",
    "Median: Outliers have less influence on the median. The median is the middle value when data is ordered, so extreme values on either side don't affect it as much.\n",
    "\n",
    "Mode: Outliers won't affect the mode (the most frequent value) unless they become the new most frequent value themselves.\n",
    "\n",
    "Dispersion:\n",
    "\n",
    "Range: Outliers can drastically increase the range, the difference between the highest and lowest values.\n",
    "\n",
    "Variance & Standard Deviation: Similar to the mean, outliers can inflate variance and standard deviation, again misrepresenting how spread out the data is.\n",
    "\n",
    "Example:\n",
    "\n",
    "Imagine a dataset of test scores: 70, 80, 85, 90, 95, and 150. The outlier (150) would significantly increase the mean score, making it seem like students performed better than they actually did. The median (around 85) would be a more accurate reflection of the typical score.\n",
    "\n",
    "Choosing the Right Measure:\n",
    "\n",
    "Knowing how outliers affect different measures is crucial. If outliers are present, consider using the median or other robust statistics less sensitive to extremes for central tendency, and alternative measures like interquartile range (IQR) for dispersion."
   ]
  },
  {
   "cell_type": "raw",
   "id": "8a37dcfb-600f-4826-9f4d-6d45443f492d",
   "metadata": {},
   "source": []
  }
 ],
 "metadata": {
  "kernelspec": {
   "display_name": "Python 3 (ipykernel)",
   "language": "python",
   "name": "python3"
  },
  "language_info": {
   "codemirror_mode": {
    "name": "ipython",
    "version": 3
   },
   "file_extension": ".py",
   "mimetype": "text/x-python",
   "name": "python",
   "nbconvert_exporter": "python",
   "pygments_lexer": "ipython3",
   "version": "3.10.8"
  }
 },
 "nbformat": 4,
 "nbformat_minor": 5
}
