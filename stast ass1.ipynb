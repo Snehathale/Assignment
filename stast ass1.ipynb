{
 "cells": [
  {
   "cell_type": "markdown",
   "id": "79e465b9-d09d-468e-957c-913d8c87d814",
   "metadata": {},
   "source": [
    "Q1. What is Statistics?"
   ]
  },
  {
   "cell_type": "markdown",
   "id": "723b2748-39f1-419d-922e-9b649cec55ea",
   "metadata": {},
   "source": [
    "Statistics is the science concerned with developing and studying methods for collecting, analyzing, interpreting and presenting empirical data."
   ]
  },
  {
   "cell_type": "markdown",
   "id": "b1390d97-2888-426f-9af9-ad3edb4b508d",
   "metadata": {},
   "source": [
    "Q2. Define the different types of statistics and give an example of when each type might be used."
   ]
  },
  {
   "cell_type": "markdown",
   "id": "fa4b3de6-f327-4354-a5ee-2dfb4a9f34e1",
   "metadata": {},
   "source": [
    "Types of Statistics"
   ]
  },
  {
   "cell_type": "raw",
   "id": "46d84a39-68df-44e3-baed-a8ebe92ed8cb",
   "metadata": {},
   "source": [
    "1)Descriptive Statistics\n",
    "2)Inferential Statistics"
   ]
  },
  {
   "cell_type": "markdown",
   "id": "1147fa1b-17b1-4a0c-841d-2c4eaf0e0566",
   "metadata": {},
   "source": [
    "Descriptive Statistics\n",
    "In the descriptive Statistics, the Data is described in a summarized way. The summarization is done from the sample of the population using different parameters like Mean or standard deviation. Descriptive Statistics are a way of using charts, graphs, and summary measures to organize, represent, and explain a set of Data. \n",
    "Data is typically arranged and displayed in tables or graphs summarizing details such as histograms, pie charts, bars or scatter plots.\n",
    "Descriptive Statistics are just descriptive and thus do not require normalization beyond the Data collected."
   ]
  },
  {
   "cell_type": "markdown",
   "id": "cab6a6cf-a491-49b0-9eb0-6fea8b75fc5c",
   "metadata": {},
   "source": [
    "eg find avg height of th entire classroom"
   ]
  },
  {
   "cell_type": "markdown",
   "id": "6b4f9b0a-06ce-4f98-9e75-1477c06f15b7",
   "metadata": {},
   "source": [
    "2)Inferential Statistics\n",
    "In the Inferential Statistics, we try to interpret the Meaning of descriptive Statistics. After the Data has been collected, analyzed, and summarised we use Inferential Statistics to describe the Meaning of the collected Data. \n",
    "Inferential Statistics use the probability principle to assess whether trends contained in the research sample can be generalized to the larger population from which the sample originally comes.\n",
    "Inferential Statistics are intended to test hypotheses and investigate relationships between variables and can be used to make population predictions.\n",
    "Inferential Statistics are used to draw conclusions and inferences, i.e., to make valid generalizations from samples."
   ]
  },
  {
   "cell_type": "markdown",
   "id": "a343a4c1-aa81-411e-98a3-6de2f2b4ff89",
   "metadata": {},
   "source": [
    "eg Inferential statistics You randomly select a sample of 11th graders in your state and collect data on their SAT scores and other characteristics. You can use inferential statistics to make estimates and test hypotheses about the whole population of 11th graders in the state based on your sample data."
   ]
  },
  {
   "cell_type": "markdown",
   "id": "2c408249-7192-4109-929f-732d7798c83f",
   "metadata": {},
   "source": [
    "Q3. What are the different types of data and how do they differ from each other? Provide an example of\n",
    "each type of data."
   ]
  },
  {
   "cell_type": "markdown",
   "id": "9143701a-a5e3-4131-aa8a-3a51930efe49",
   "metadata": {},
   "source": [
    "Qualitative Data (Categorical Data)\n",
    "As the name suggest Qualitative Data tells the features of the data in the statistics. Qualitative Data is also called Categorical Data and its categories the data into various categories. Qualitative data includes data such as gender of people, their family name and others in sample of population data.\n",
    "Qualitative data is further categorized into two categories that includes,\n",
    "Nominal Data\n",
    "Ordinal Data\n",
    "\n",
    "Nominal Data\n",
    "Nominal data is a type of data that consists of categories or names that cannot be ordered or ranked. Nominal data is often used to categorize observations into groups, and the groups are not comparable. In other words, nominal data has no inherent order or ranking.\n",
    "Examples of nominal data include gender (Male or female), race (White, Black, Asian), religion (Hinuduism, Christianity, Islam, Judaism), and blood type (A, B, AB, O).\n",
    "\n",
    "Ordinal Data\n",
    "Ordinal data is a type of data that consists of categories that can be ordered or ranked. However, the distance between categories is not necessarily equal. Ordinal data is often used to measure subjective attributes or opinions, where there is a natural order to the responses. \n",
    "Examples of ordinal data include education level (Elementary, Middle, High School, College), job position (Manager, Supervisor, Employee), etc.\n",
    "\n",
    "Quantitative Data (Numerical Data)\n",
    "Quantitavive Data is the type of the data that represents the numerical value of the data. They are also called the Numerical Data. This data type is used to represent the height, weight, length and other things of the data. Quantitative data is further classified into two categories that are,\n",
    "Discrete Data\n",
    "Continuous Data\n",
    "\n",
    "Discrete Data\n",
    "Discrite data type is a type of data in statistics that only uses Discrete Value or Single Values. These data types have values that can be easily counted as whole numbers.\n",
    "The example of the discreate data types are,\n",
    "Height of Students in a class\n",
    "Marks of the students in a class test\n",
    "Weight of different members of a family, etc.\n",
    "\n",
    "Continuous Data\n",
    "Continuous data is the type of the quantitative data that represent the data in a continuous range. The variable in the data set can have any value between the range of the data set. \n",
    "Examples of the continuous data types are,\n",
    "Temperature Range\n",
    "Salary range of Workers in a Factory, etc.\n",
    "\n",
    "\n",
    "\n"
   ]
  },
  {
   "cell_type": "markdown",
   "id": "3e0565fd-53b5-438a-a48c-b55687e7a370",
   "metadata": {},
   "source": [
    "Q4. Categorise the following datasets with respect to quantitative and qualitative data types:\n",
    "\n",
    "(i) Grading in exam: A+, A, B+, B, C+, C, D, \n",
    "\n",
    "qualitative data type\n",
    "\n",
    "(ii) Colour of mangoes: yellow, green, orange, red\n",
    "\n",
    "qualitative data type\n",
    "\n",
    "(iii) Height data of a class: [178.9, 179, 179.5, 176, 177.2, 178.3, 175.8,...]\n",
    "\n",
    "quantitative data type\n",
    " \n",
    "(iv) Number of mangoes exported by a farm: [500, 600, 478, 672, ...]\n",
    "\n",
    "quantitative data type"
   ]
  },
  {
   "cell_type": "markdown",
   "id": "bb8c2ab3-4257-43d2-9945-76a44ac3d5b7",
   "metadata": {},
   "source": [
    "Q5. Explain the concept of levels of measurement and give an example of a variable for each level."
   ]
  },
  {
   "cell_type": "markdown",
   "id": "fcdd7b03-7ccf-46ff-8b41-b6787a96bce3",
   "metadata": {},
   "source": [
    "Levels of measurement, also called scales of measurement, tell you how precisely variables are recorded. In scientific research, a variable is anything that can take on different values across your data set (e.g., height or test scores).\n",
    "\n",
    "There are 4 levels of measurement:\n",
    "\n",
    "Nominal: the data can only be categorized\n",
    "\n",
    "Ordinal: the data can be categorized and ranked\n",
    "\n",
    "Interval: the data can be categorized, ranked, and evenly spaced\n",
    "\n",
    "Ratio: the data can be categorized, ranked, evenly spaced, and has a natural zero.\n",
    "\n",
    "Nominal level : You can categorize your data by labelling them in mutually exclusive groups, but there is no order between the categories.\t\n",
    "Examples of nominal scales\n",
    "City of birth\n",
    "Gender\n",
    "Ethnicity\n",
    "Car brands\n",
    "Marital status\n",
    "\n",
    "Ordinal level : You can categorize and rank your data in an order, but you cannot say anything about the intervals between the rankings.\n",
    "Although you can rank the top 5 Olympic medallists, this scale does not tell you how close or far apart they are in number of wins.\n",
    "Examples of ordinal scales\n",
    "Top 5 Olympic medallists\n",
    "Language ability (e.g., beginner, intermediate, fluent)\n",
    "Likert-type questions  (e.g., very dissatisfied to very satisfied)\n",
    "\n",
    "Interval level : You can categorize, rank, and infer equal intervals between neighboring data points, but there is no true zero point.\n",
    "The difference between any two adjacent temperatures is the same: one degree. But  zero degrees is defined differently depending on the scale – it doesn’t mean an absolute absence of temperature.\n",
    "The same is true for test scores and personality inventories. A zero on a test is arbitrary; it does not mean that the test-taker has an absolute lack of the trait being measured.\n",
    "Examples of interval scales\n",
    "Test scores (e.g., IQ or exams)\n",
    "Personality inventories\n",
    "Temperature in Fahrenheit or Celsius\n",
    "\n",
    "Ratio level : You can categorize, rank, and infer equal intervals between neighboring data points, and there is a true zero point.\n",
    "A true zero means there is an absence of the variable of interest. In ratio scales, zero does mean an absolute lack of the variable.\n",
    "For example, in the Kelvin temperature scale, there are no negative degrees of temperature – zero means an absolute lack of thermal energy.\n",
    "Examples of ratio scales\n",
    "Height\n",
    "Age\n",
    "Weight\n",
    "Temperature in Kelvin\n"
   ]
  },
  {
   "cell_type": "markdown",
   "id": "132be9ec-b5b6-4b6e-ae42-1c6a63b1cc39",
   "metadata": {},
   "source": [
    "Q6. Why is it important to understand the level of measurement when analyzing data? Provide an\n",
    "example to illustrate your answer."
   ]
  },
  {
   "cell_type": "markdown",
   "metadata": {},
   "source": [
    "First, knowing the level of measurement helps you decide how to interpret the data from that variable. When you know that a measure is nominal (like the one just described), then you know that the numerical values are just short codes for the longer names. Second, knowing the level of measurement helps you decide what statistical analysis is appropriate on the values that were assigned. If a measure is nominal, then you know that you would never average the data values or do a t-test on the data.\n",
    "\n",
    "There are typically four levels of measurement that are defined:\n",
    "\n",
    "Nominal \n",
    "For example, a fund manager may choose to assign the number 1 to small-cap stocks, the number 2 to corporate bonds, the number 3 to derivatives, and so on.\n",
    "\n",
    "Ordinal\n",
    "For example, a list of 500 managers of mutual funds may be ranked by assigning the number 1 to the best-performing manager, the number 2 to the second best-performing manager, and so on.\n",
    "\n",
    "Interval\n",
    "For example, temperature measurement is an example of an interval scale: 60°C is colder than 65°C, and the temperature difference is the same as the difference between 50°C and 55°C. In other words, the difference of 5°C in both intervals shares the same interpretation and meaning.\n",
    "\n",
    "Ratio\n",
    "For example, the measurement of money is an example of a ratio scale. An individual with $0 has an absence of money. With a true zero point, it would be correct to say that someone with $100 has twice as much money as someone with $50.\n",
    "\n",
    "It’s important to recognize that there is a hierarchy implied in the level of measurement idea. At lower levels of measurement, assumptions tend to be less restrictive and data analyses tend to be less sensitive. At each level up the hierarchy, the current level includes all of the qualities of the one below it and adds something new. In general, it is desirable to have a higher level of measurement (e.g. interval or ratio) rather than a lower one (nominal or ordinal).\n"
   ]
  },
  {
   "cell_type": "markdown",
   "metadata": {},
   "source": [
    "Q7. How nominal data type is different from ordinal data type.\n",
    "\n",
    "When looking at Stevens’ four levels of measurement, nominal data lies at one extreme of the scale. To collect this information, researchers simply had to classify something into a pre-defined category. Categories showed no order apart from membership based on some criteria. So, whether someone is a Democrat, Republican, or independent voter, or whether an animal is a fish, bird, mammal, reptile, amphibian, or insect are both examples of nominal data. \n",
    "\n",
    "On the other extreme of Stevens’ scale lies ratio data, which has a true zero, equal spacing between units of observation and a scale applicable to every observation that extends from small to large. Temperature in kelvins, income, years of life, and speed are examples of ratio-scale data.\n",
    "\n",
    "Ordinal data falls between these two extremes. Unlike its nominal cousin, ordinal categories have a rank structure. On the other hand, unlike its ratio-scale cousin, distances between ordinal ranks do not need to be equal or even standardized between rank levels. \n",
    "\n"
   ]
  },
  {
   "cell_type": "markdown",
   "metadata": {},
   "source": [
    "Q8. Which type of plot can be used to display data in terms of range?\n",
    "\n",
    "Histograms. In a histogram, the range is the width that the bars cover along the x-axis. These are approximate values because histograms display bin values rather than raw data values. In these histograms, distribution A has an approximate range of 65 – 40 = 25 and for distribution C it is 90 – 20 = 70."
   ]
  },
  {
   "cell_type": "markdown",
   "metadata": {},
   "source": [
    "Q9. Describe the difference between descriptive and inferential statistics. Give an example of each\n",
    "type of statistics and explain how they are used.\n",
    "\n",
    "Descriptive and inferential statistics are two fundamental tools used to understand and analyze data. While they both play a role in summarizing information, they differ in their focus and goals.\n",
    "\n",
    "Descriptive Statistics\n",
    "\n",
    "Function: Describe the characteristics of a dataset.\n",
    "Goal: Summarize and organize data in a way that reveals its key features.\n",
    "Methods: Common techniques include measures of central tendency (mean, median, mode), measures of dispersion (variance, standard deviation), and graphical representations (histograms, bar charts, etc.).\n",
    "Example: Imagine you survey 100 students about their sleep habits. Descriptive statistics would involve calculating the average amount of sleep they get per night, the range of sleep times (how spread out the data is), and creating a histogram to visualize the distribution of sleep times.\n",
    "\n",
    "Inferential Statistics\n",
    "\n",
    "Function: Draw conclusions about a larger population based on a sample of data.\n",
    "Goal: Make predictions or generalizations about a group beyond the data observed.\n",
    "Methods: Techniques include hypothesis testing, confidence intervals, and regression analysis. These methods involve a level of uncertainty, acknowledging there might be some error when applying findings from a sample to a larger population.\n",
    "Example:  Building on the sleep survey, you might want to know if the average sleep duration of your 100 students applies to all students in your school (the population). Inferential statistics would allow you to test this hypothesis by calculating a confidence interval, which indicates the range within which the true average sleep time for the entire school population likely falls.\n",
    "\n",
    "In essence, descriptive statistics provides a clear picture of the data you have, while inferential statistics helps you make informed guesses about what a bigger picture might look like. They work together to give you a comprehensive understanding of your data.\n"
   ]
  },
  {
   "cell_type": "markdown",
   "metadata": {},
   "source": [
    "Q10. What are some common measures of central tendency and variability used in statistics? Explain\n",
    "how each measure can be used to describe a dataset.\n",
    "\n",
    "Measures of Central Tendency:\n",
    "\n",
    "Mean: This is the most familiar one, often called the \"average.\" It's calculated by adding all the values in a dataset and dividing by the number of values. The mean is a good choice when the data is symmetrical and free of extreme outliers.\n",
    "\n",
    "Median: The median is the \"middle value\" when the data is arranged in ascending or descending order. If you have an even number of values, the median is the average of the two middle values. The median is less sensitive to outliers compared to the mean, making it useful for skewed data.\n",
    "\n",
    "Mode: The mode is simply the most frequent value in a dataset. It can be particularly informative when you're dealing with categorical data, but it can also exist for numerical data. Datasets can have one mode (unimodal), two modes (bimodal), or even more (multimodal).\n",
    "\n",
    "How they describe a dataset:\n",
    "\n",
    "Imagine you have a dataset representing the test scores of 50 students. The mean would tell you the average score, indicating the overall level of performance. The median would reveal the score that divides the higher-scoring half from the lower-scoring half. The mode would show the most common score, potentially highlighting a specific range where many students scored.\n",
    "\n",
    "Measures of Variability:\n",
    "\n",
    "Range: This is the simplest measure, calculated as the difference between the highest and lowest values in the dataset. The range gives a basic idea of how spread out the data is, but it can be misleading if there are outliers.\n",
    "\n",
    "Variance: The variance is the average squared deviation of each data point from the mean. It represents how spread out the data is around the average value. A higher variance indicates greater spread, while a lower variance suggests the data points are closer to the mean.\n",
    "\n",
    "Standard Deviation: The standard deviation is the square root of the variance. It's expressed in the same units as the original data, making it easier to interpret the spread compared to variance. Similar to variance, a higher standard deviation shows more variation in the data, while a lower standard deviation indicates the data is clustered around the mean.\n",
    "\n",
    "How they describe a dataset:\n",
    "\n",
    "Continuing with the test score example, the range would tell you the difference between the highest and lowest scores. The variance and standard deviation would provide a more nuanced picture of how spread out the scores are. A high standard deviation would suggest a wider range of scores, with students performing significantly above or below the average. A low standard deviation would indicate the scores are clustered closer to the mean, suggesting a more uniform performance across the class.\n",
    "\n",
    "By understanding these measures, you can effectively summarize and interpret different aspects of your data, gaining valuable insights into its characteristics."
   ]
  }
 ],
 "metadata": {
  "kernelspec": {
   "display_name": "Python 3 (ipykernel)",
   "language": "python",
   "name": "python3"
  },
  "language_info": {
   "codemirror_mode": {
    "name": "ipython",
    "version": 3
   },
   "file_extension": ".py",
   "mimetype": "text/x-python",
   "name": "python",
   "nbconvert_exporter": "python",
   "pygments_lexer": "ipython3",
   "version": "3.10.8"
  }
 },
 "nbformat": 4,
 "nbformat_minor": 5
}
